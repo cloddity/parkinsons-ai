{
  "cells": [
    {
      "cell_type": "markdown",
      "metadata": {
        "id": "p83EDmSiPriv"
      },
      "source": [
        "# <b>CS156 (Introduction to AI), Spring 2022</b>\n",
        "# <u><b>Final term project</b></u>"
      ]
    },
    {
      "cell_type": "markdown",
      "metadata": {
        "id": "iew0lnwvPri3"
      },
      "source": [
        "### Roster Name: David Thach\n",
        "### Student ID: 013698022\n",
        "### Email address: david.thach01@sjsu.edu\n",
        "Any special notes or anything you would like to communicate to me about this project submission goes in here."
      ]
    },
    {
      "cell_type": "markdown",
      "metadata": {
        "id": "1I6_4RTMPri4"
      },
      "source": [
        "##  <u> Project description/introduction text (the background information) </u>"
      ]
    },
    {
      "cell_type": "markdown",
      "metadata": {
        "id": "5iBb7AVbPri5"
      },
      "source": [
        "Parkinson's disease is a progressive nervous system disorder that affects movement, commonly causing stiffness or slowness of movement. It affects nearly 6 million people, resulting in a range of both motor and non-motor symptoms. Symptoms of this disease may be reflected in many activities in everyday life - potentially, in particularly intricate movements like typing. The goal of this project is to predict whether a particular person may have Parkinson’s by analyzing their keystroke data (positional changes and press/release delays).\n",
        " "
      ]
    },
    {
      "cell_type": "markdown",
      "metadata": {
        "id": "9SOrFs3CPri6"
      },
      "source": [
        "##  <u> Machine learning algorithm selected for this project </u>"
      ]
    },
    {
      "cell_type": "markdown",
      "metadata": {
        "id": "zdi-36E1Pri6"
      },
      "source": [
        "Poly SVC was selected for this project. It is ideal for taking advantage of the large feature space of the dataset, utilizing kernels to find a hyperplane that best separates instances of the classes."
      ]
    },
    {
      "cell_type": "markdown",
      "metadata": {
        "id": "IKBaS8kMPri7"
      },
      "source": [
        "##  <u> Dataset source </u>"
      ]
    },
    {
      "cell_type": "markdown",
      "metadata": {
        "id": "TBysbssYPri8"
      },
      "source": [
        "*https://www.physionet.org/content/tappy/1.0.0/*"
      ]
    },
    {
      "cell_type": "markdown",
      "metadata": {
        "id": "oLOtyHt0Pri-"
      },
      "source": [
        "##  <u> References and sources </u>"
      ]
    },
    {
      "cell_type": "markdown",
      "metadata": {
        "id": "wtoX1t3FPri_"
      },
      "source": [
        "[1] Adams, Warwick R. “High-Accuracy Detection of Early Parkinson's Disease Using Multiple Characteristics of Finger Movement While Typing.” PLOS ONE, Public Library of Science, 30 Nov. 2017, https://journals.plos.org/plosone/article?id=10.1371%2Fjournal.pone.0188226. \n",
        "\n",
        "[2] Goldberger, A., Amaral, L., Glass, L., Hausdorff, J., Ivanov, P. C., Mark, R., ... & Stanley, H. E. (2000). PhysioBank, PhysioToolkit, and PhysioNet: Components of a new research resource for complex physiologic signals. Circulation [Online]. 101 (23), pp. e215–e220."
      ]
    },
    {
      "cell_type": "markdown",
      "metadata": {
        "id": "ZFWGxhMAPrjA"
      },
      "source": [
        "##  <u>Solution</u>"
      ]
    },
    {
      "cell_type": "markdown",
      "metadata": {
        "id": "4a4n_I66PrjA"
      },
      "source": [
        "#### Load libraries and set random number generator seed"
      ]
    },
    {
      "cell_type": "code",
      "execution_count": 1,
      "metadata": {
        "id": "_3oQsiEnPrjB"
      },
      "outputs": [],
      "source": [
        "import numpy as np\n",
        "from google.colab import drive\n",
        "import pandas as pd\n",
        "import os\n",
        "import csv"
      ]
    },
    {
      "cell_type": "code",
      "source": [
        "import statistics \n",
        "from scipy import stats\n",
        "import matplotlib.pyplot as plt\n",
        "import seaborn as sns\n",
        "from sklearn.model_selection import train_test_split\n",
        "from sklearn.decomposition import PCA\n",
        "from sklearn.preprocessing import StandardScaler\n",
        "from sklearn.svm import LinearSVC\n",
        "from sklearn.svm import SVC\n",
        "from sklearn.model_selection import GridSearchCV\n",
        "from sklearn.metrics import classification_report\n",
        "from sklearn.metrics import plot_confusion_matrix\n",
        "from sklearn.metrics import accuracy_score, precision_score, recall_score\n",
        "from sklearn.model_selection import StratifiedKFold\n",
        "from sklearn import linear_model\n",
        "\n",
        "from sklearn.discriminant_analysis import LinearDiscriminantAnalysis\n",
        "from sklearn.manifold import TSNE\n",
        "from matplotlib.colors import ListedColormap\n",
        "from mpl_toolkits.mplot3d import Axes3D\n",
        "import warnings\n",
        "warnings.filterwarnings(\"ignore\")"
      ],
      "metadata": {
        "id": "PkZ6CQ4_b2Z0"
      },
      "execution_count": 2,
      "outputs": []
    },
    {
      "cell_type": "code",
      "execution_count": 3,
      "metadata": {
        "id": "P_oR8fAFPrjD"
      },
      "outputs": [],
      "source": [
        "np.random.seed(42)"
      ]
    },
    {
      "cell_type": "markdown",
      "metadata": {
        "id": "_MHiUZf8PrjD"
      },
      "source": [
        "#### Code the solution"
      ]
    },
    {
      "cell_type": "markdown",
      "source": [
        "**Pre-processing**"
      ],
      "metadata": {
        "id": "mkACyqw8n8dG"
      }
    },
    {
      "cell_type": "code",
      "execution_count": 4,
      "metadata": {
        "colab": {
          "base_uri": "https://localhost:8080/"
        },
        "id": "v6Du2IuuPrjE",
        "outputId": "3a75300c-bc6f-4840-cc55-627d3a027c5c"
      },
      "outputs": [
        {
          "output_type": "stream",
          "name": "stdout",
          "text": [
            "Mounted at /content/drive\n"
          ]
        }
      ],
      "source": [
        "drive.mount('/content/drive')"
      ]
    },
    {
      "cell_type": "code",
      "execution_count": 5,
      "metadata": {
        "colab": {
          "base_uri": "https://localhost:8080/",
          "height": 424
        },
        "id": "-2Y447-ePrjE",
        "outputId": "2ec8d22e-cab4-43b1-f11b-b64119c6611b"
      },
      "outputs": [
        {
          "output_type": "display_data",
          "data": {
            "text/plain": [
              "         UserKey    Date     Timestamp Hand  Hold time Direction  \\\n",
              "0     0EA27ICBLF  160722  18:41:04.336    L      101.6        LL   \n",
              "1     0EA27ICBLF  160722  18:42:14.070    L       85.9        LL   \n",
              "2     0EA27ICBLF  160722  18:42:14.273    L       78.1        LL   \n",
              "3     0EA27ICBLF  160722  18:42:14.617    L       62.5        LL   \n",
              "4     0EA27ICBLF  160722  18:42:15.586    S      125.0        LS   \n",
              "...          ...     ...           ...  ...        ...       ...   \n",
              "8649  ZYWLN4JVLA  170126  13:56:20.117    L      195.3        RL   \n",
              "8650  ZYWLN4JVLA  170126  13:56:20.242    R      105.5        LR   \n",
              "8651  ZYWLN4JVLA  170126  13:56:33.625    L      168.0        LL   \n",
              "8652  ZYWLN4JVLA  170126  13:56:33.836    L       97.7        LL   \n",
              "8653  ZYWLN4JVLA  170126  13:56:34.066    L      168.0        LL   \n",
              "\n",
              "      Latency time  Flight time  \n",
              "0            234.4        156.3  \n",
              "1            437.5        359.4  \n",
              "2            210.9        125.0  \n",
              "3            359.4        281.3  \n",
              "4            187.5         93.8  \n",
              "...            ...          ...  \n",
              "8649         425.8        261.7  \n",
              "8650         214.8         19.5  \n",
              "8651         332.0         15.6  \n",
              "8652         281.3        113.3  \n",
              "8653         160.2         62.5  \n",
              "\n",
              "[9013244 rows x 8 columns]"
            ],
            "text/html": [
              "\n",
              "  <div id=\"df-49bde1ad-becd-4e8f-a9c0-0e08df08da21\">\n",
              "    <div class=\"colab-df-container\">\n",
              "      <div>\n",
              "<style scoped>\n",
              "    .dataframe tbody tr th:only-of-type {\n",
              "        vertical-align: middle;\n",
              "    }\n",
              "\n",
              "    .dataframe tbody tr th {\n",
              "        vertical-align: top;\n",
              "    }\n",
              "\n",
              "    .dataframe thead th {\n",
              "        text-align: right;\n",
              "    }\n",
              "</style>\n",
              "<table border=\"1\" class=\"dataframe\">\n",
              "  <thead>\n",
              "    <tr style=\"text-align: right;\">\n",
              "      <th></th>\n",
              "      <th>UserKey</th>\n",
              "      <th>Date</th>\n",
              "      <th>Timestamp</th>\n",
              "      <th>Hand</th>\n",
              "      <th>Hold time</th>\n",
              "      <th>Direction</th>\n",
              "      <th>Latency time</th>\n",
              "      <th>Flight time</th>\n",
              "    </tr>\n",
              "  </thead>\n",
              "  <tbody>\n",
              "    <tr>\n",
              "      <th>0</th>\n",
              "      <td>0EA27ICBLF</td>\n",
              "      <td>160722</td>\n",
              "      <td>18:41:04.336</td>\n",
              "      <td>L</td>\n",
              "      <td>101.6</td>\n",
              "      <td>LL</td>\n",
              "      <td>234.4</td>\n",
              "      <td>156.3</td>\n",
              "    </tr>\n",
              "    <tr>\n",
              "      <th>1</th>\n",
              "      <td>0EA27ICBLF</td>\n",
              "      <td>160722</td>\n",
              "      <td>18:42:14.070</td>\n",
              "      <td>L</td>\n",
              "      <td>85.9</td>\n",
              "      <td>LL</td>\n",
              "      <td>437.5</td>\n",
              "      <td>359.4</td>\n",
              "    </tr>\n",
              "    <tr>\n",
              "      <th>2</th>\n",
              "      <td>0EA27ICBLF</td>\n",
              "      <td>160722</td>\n",
              "      <td>18:42:14.273</td>\n",
              "      <td>L</td>\n",
              "      <td>78.1</td>\n",
              "      <td>LL</td>\n",
              "      <td>210.9</td>\n",
              "      <td>125.0</td>\n",
              "    </tr>\n",
              "    <tr>\n",
              "      <th>3</th>\n",
              "      <td>0EA27ICBLF</td>\n",
              "      <td>160722</td>\n",
              "      <td>18:42:14.617</td>\n",
              "      <td>L</td>\n",
              "      <td>62.5</td>\n",
              "      <td>LL</td>\n",
              "      <td>359.4</td>\n",
              "      <td>281.3</td>\n",
              "    </tr>\n",
              "    <tr>\n",
              "      <th>4</th>\n",
              "      <td>0EA27ICBLF</td>\n",
              "      <td>160722</td>\n",
              "      <td>18:42:15.586</td>\n",
              "      <td>S</td>\n",
              "      <td>125.0</td>\n",
              "      <td>LS</td>\n",
              "      <td>187.5</td>\n",
              "      <td>93.8</td>\n",
              "    </tr>\n",
              "    <tr>\n",
              "      <th>...</th>\n",
              "      <td>...</td>\n",
              "      <td>...</td>\n",
              "      <td>...</td>\n",
              "      <td>...</td>\n",
              "      <td>...</td>\n",
              "      <td>...</td>\n",
              "      <td>...</td>\n",
              "      <td>...</td>\n",
              "    </tr>\n",
              "    <tr>\n",
              "      <th>8649</th>\n",
              "      <td>ZYWLN4JVLA</td>\n",
              "      <td>170126</td>\n",
              "      <td>13:56:20.117</td>\n",
              "      <td>L</td>\n",
              "      <td>195.3</td>\n",
              "      <td>RL</td>\n",
              "      <td>425.8</td>\n",
              "      <td>261.7</td>\n",
              "    </tr>\n",
              "    <tr>\n",
              "      <th>8650</th>\n",
              "      <td>ZYWLN4JVLA</td>\n",
              "      <td>170126</td>\n",
              "      <td>13:56:20.242</td>\n",
              "      <td>R</td>\n",
              "      <td>105.5</td>\n",
              "      <td>LR</td>\n",
              "      <td>214.8</td>\n",
              "      <td>19.5</td>\n",
              "    </tr>\n",
              "    <tr>\n",
              "      <th>8651</th>\n",
              "      <td>ZYWLN4JVLA</td>\n",
              "      <td>170126</td>\n",
              "      <td>13:56:33.625</td>\n",
              "      <td>L</td>\n",
              "      <td>168.0</td>\n",
              "      <td>LL</td>\n",
              "      <td>332.0</td>\n",
              "      <td>15.6</td>\n",
              "    </tr>\n",
              "    <tr>\n",
              "      <th>8652</th>\n",
              "      <td>ZYWLN4JVLA</td>\n",
              "      <td>170126</td>\n",
              "      <td>13:56:33.836</td>\n",
              "      <td>L</td>\n",
              "      <td>97.7</td>\n",
              "      <td>LL</td>\n",
              "      <td>281.3</td>\n",
              "      <td>113.3</td>\n",
              "    </tr>\n",
              "    <tr>\n",
              "      <th>8653</th>\n",
              "      <td>ZYWLN4JVLA</td>\n",
              "      <td>170126</td>\n",
              "      <td>13:56:34.066</td>\n",
              "      <td>L</td>\n",
              "      <td>168.0</td>\n",
              "      <td>LL</td>\n",
              "      <td>160.2</td>\n",
              "      <td>62.5</td>\n",
              "    </tr>\n",
              "  </tbody>\n",
              "</table>\n",
              "<p>9013244 rows × 8 columns</p>\n",
              "</div>\n",
              "      <button class=\"colab-df-convert\" onclick=\"convertToInteractive('df-49bde1ad-becd-4e8f-a9c0-0e08df08da21')\"\n",
              "              title=\"Convert this dataframe to an interactive table.\"\n",
              "              style=\"display:none;\">\n",
              "        \n",
              "  <svg xmlns=\"http://www.w3.org/2000/svg\" height=\"24px\"viewBox=\"0 0 24 24\"\n",
              "       width=\"24px\">\n",
              "    <path d=\"M0 0h24v24H0V0z\" fill=\"none\"/>\n",
              "    <path d=\"M18.56 5.44l.94 2.06.94-2.06 2.06-.94-2.06-.94-.94-2.06-.94 2.06-2.06.94zm-11 1L8.5 8.5l.94-2.06 2.06-.94-2.06-.94L8.5 2.5l-.94 2.06-2.06.94zm10 10l.94 2.06.94-2.06 2.06-.94-2.06-.94-.94-2.06-.94 2.06-2.06.94z\"/><path d=\"M17.41 7.96l-1.37-1.37c-.4-.4-.92-.59-1.43-.59-.52 0-1.04.2-1.43.59L10.3 9.45l-7.72 7.72c-.78.78-.78 2.05 0 2.83L4 21.41c.39.39.9.59 1.41.59.51 0 1.02-.2 1.41-.59l7.78-7.78 2.81-2.81c.8-.78.8-2.07 0-2.86zM5.41 20L4 18.59l7.72-7.72 1.47 1.35L5.41 20z\"/>\n",
              "  </svg>\n",
              "      </button>\n",
              "      \n",
              "  <style>\n",
              "    .colab-df-container {\n",
              "      display:flex;\n",
              "      flex-wrap:wrap;\n",
              "      gap: 12px;\n",
              "    }\n",
              "\n",
              "    .colab-df-convert {\n",
              "      background-color: #E8F0FE;\n",
              "      border: none;\n",
              "      border-radius: 50%;\n",
              "      cursor: pointer;\n",
              "      display: none;\n",
              "      fill: #1967D2;\n",
              "      height: 32px;\n",
              "      padding: 0 0 0 0;\n",
              "      width: 32px;\n",
              "    }\n",
              "\n",
              "    .colab-df-convert:hover {\n",
              "      background-color: #E2EBFA;\n",
              "      box-shadow: 0px 1px 2px rgba(60, 64, 67, 0.3), 0px 1px 3px 1px rgba(60, 64, 67, 0.15);\n",
              "      fill: #174EA6;\n",
              "    }\n",
              "\n",
              "    [theme=dark] .colab-df-convert {\n",
              "      background-color: #3B4455;\n",
              "      fill: #D2E3FC;\n",
              "    }\n",
              "\n",
              "    [theme=dark] .colab-df-convert:hover {\n",
              "      background-color: #434B5C;\n",
              "      box-shadow: 0px 1px 3px 1px rgba(0, 0, 0, 0.15);\n",
              "      filter: drop-shadow(0px 1px 2px rgba(0, 0, 0, 0.3));\n",
              "      fill: #FFFFFF;\n",
              "    }\n",
              "  </style>\n",
              "\n",
              "      <script>\n",
              "        const buttonEl =\n",
              "          document.querySelector('#df-49bde1ad-becd-4e8f-a9c0-0e08df08da21 button.colab-df-convert');\n",
              "        buttonEl.style.display =\n",
              "          google.colab.kernel.accessAllowed ? 'block' : 'none';\n",
              "\n",
              "        async function convertToInteractive(key) {\n",
              "          const element = document.querySelector('#df-49bde1ad-becd-4e8f-a9c0-0e08df08da21');\n",
              "          const dataTable =\n",
              "            await google.colab.kernel.invokeFunction('convertToInteractive',\n",
              "                                                     [key], {});\n",
              "          if (!dataTable) return;\n",
              "\n",
              "          const docLinkHtml = 'Like what you see? Visit the ' +\n",
              "            '<a target=\"_blank\" href=https://colab.research.google.com/notebooks/data_table.ipynb>data table notebook</a>'\n",
              "            + ' to learn more about interactive tables.';\n",
              "          element.innerHTML = '';\n",
              "          dataTable['output_type'] = 'display_data';\n",
              "          await google.colab.output.renderOutput(dataTable, element);\n",
              "          const docLink = document.createElement('div');\n",
              "          docLink.innerHTML = docLinkHtml;\n",
              "          element.appendChild(docLink);\n",
              "        }\n",
              "      </script>\n",
              "    </div>\n",
              "  </div>\n",
              "  "
            ]
          },
          "metadata": {}
        }
      ],
      "source": [
        "users = []\n",
        "df = pd.DataFrame()\n",
        "\n",
        "# read data from text files\n",
        "root = '/content/drive/MyDrive/SJSU/CS156/Keystroke Data'\n",
        "for fn in os.listdir(root + '/Archived users'):\n",
        "    user_file = open(root + '/Archived users/' + fn, \"r\")\n",
        "    data = user_file.read()\n",
        "    content = data.split(\"\\n\")\n",
        "    #print(content)\n",
        "    users.append(str(fn)[5:-4])\n",
        "\n",
        "# combine data into singular dataframe\n",
        "for fn in os.listdir(root + '/Tappy Data'):\n",
        "    if fn[:-9] in users:\n",
        "        new = pd.read_csv(root + '/Tappy Data/' + fn, delimiter=\"\\t\", names = ['UserKey', 'Date', 'Timestamp', 'Hand', 'Hold time', 'Direction', 'Latency time', 'Flight time'], index_col=False)\n",
        "        try:\n",
        "            new['Hold time'] = pd.to_numeric(new['Hold time'], errors='coerce')\n",
        "            new['Latency time'] = pd.to_numeric(new['Latency time'], errors='coerce')\n",
        "            new['Flight time'] = pd.to_numeric(new['Flight time'], errors='coerce')\n",
        "            new = new.dropna()\n",
        "            \n",
        "            indexNames = new[(abs(new['Hold time']) >= 1000)].index\n",
        "            new = new.drop(indexNames)\n",
        "            indexNames = new[(abs(new['Latency time']) >= 1000)].index\n",
        "            new = new.drop(indexNames)\n",
        "            indexNames = new[(abs(new['Flight time']) >= 1000)].index\n",
        "            new = new.drop(indexNames)\n",
        "            df = df.append(new)\n",
        "        except: \n",
        "            pass\n",
        "            \n",
        "display(df)"
      ]
    },
    {
      "cell_type": "markdown",
      "source": [
        "**Data cleansing**"
      ],
      "metadata": {
        "id": "hpDx69aWqmgE"
      }
    },
    {
      "cell_type": "code",
      "execution_count": 6,
      "metadata": {
        "id": "1aLhwSxPPrjF",
        "colab": {
          "base_uri": "https://localhost:8080/",
          "height": 441
        },
        "outputId": "23ac2950-4402-478f-fd42-4f6deaa32c1a"
      },
      "outputs": [
        {
          "output_type": "stream",
          "name": "stdout",
          "text": [
            "Number of unique users: 276\n"
          ]
        },
        {
          "output_type": "display_data",
          "data": {
            "text/plain": [
              "         UserKey Hand  Hold time Direction  Latency time  Flight time\n",
              "0     0EA27ICBLF    L      101.6        LL         234.4        156.3\n",
              "1     0EA27ICBLF    L       85.9        LL         437.5        359.4\n",
              "2     0EA27ICBLF    L       78.1        LL         210.9        125.0\n",
              "3     0EA27ICBLF    L       62.5        LL         359.4        281.3\n",
              "4     0EA27ICBLF    S      125.0        LS         187.5         93.8\n",
              "...          ...  ...        ...       ...           ...          ...\n",
              "8649  ZYWLN4JVLA    L      195.3        RL         425.8        261.7\n",
              "8650  ZYWLN4JVLA    R      105.5        LR         214.8         19.5\n",
              "8651  ZYWLN4JVLA    L      168.0        LL         332.0         15.6\n",
              "8652  ZYWLN4JVLA    L       97.7        LL         281.3        113.3\n",
              "8653  ZYWLN4JVLA    L      168.0        LL         160.2         62.5\n",
              "\n",
              "[9013244 rows x 6 columns]"
            ],
            "text/html": [
              "\n",
              "  <div id=\"df-f81985a5-ce9d-4b76-9343-b26d03221ffa\">\n",
              "    <div class=\"colab-df-container\">\n",
              "      <div>\n",
              "<style scoped>\n",
              "    .dataframe tbody tr th:only-of-type {\n",
              "        vertical-align: middle;\n",
              "    }\n",
              "\n",
              "    .dataframe tbody tr th {\n",
              "        vertical-align: top;\n",
              "    }\n",
              "\n",
              "    .dataframe thead th {\n",
              "        text-align: right;\n",
              "    }\n",
              "</style>\n",
              "<table border=\"1\" class=\"dataframe\">\n",
              "  <thead>\n",
              "    <tr style=\"text-align: right;\">\n",
              "      <th></th>\n",
              "      <th>UserKey</th>\n",
              "      <th>Hand</th>\n",
              "      <th>Hold time</th>\n",
              "      <th>Direction</th>\n",
              "      <th>Latency time</th>\n",
              "      <th>Flight time</th>\n",
              "    </tr>\n",
              "  </thead>\n",
              "  <tbody>\n",
              "    <tr>\n",
              "      <th>0</th>\n",
              "      <td>0EA27ICBLF</td>\n",
              "      <td>L</td>\n",
              "      <td>101.6</td>\n",
              "      <td>LL</td>\n",
              "      <td>234.4</td>\n",
              "      <td>156.3</td>\n",
              "    </tr>\n",
              "    <tr>\n",
              "      <th>1</th>\n",
              "      <td>0EA27ICBLF</td>\n",
              "      <td>L</td>\n",
              "      <td>85.9</td>\n",
              "      <td>LL</td>\n",
              "      <td>437.5</td>\n",
              "      <td>359.4</td>\n",
              "    </tr>\n",
              "    <tr>\n",
              "      <th>2</th>\n",
              "      <td>0EA27ICBLF</td>\n",
              "      <td>L</td>\n",
              "      <td>78.1</td>\n",
              "      <td>LL</td>\n",
              "      <td>210.9</td>\n",
              "      <td>125.0</td>\n",
              "    </tr>\n",
              "    <tr>\n",
              "      <th>3</th>\n",
              "      <td>0EA27ICBLF</td>\n",
              "      <td>L</td>\n",
              "      <td>62.5</td>\n",
              "      <td>LL</td>\n",
              "      <td>359.4</td>\n",
              "      <td>281.3</td>\n",
              "    </tr>\n",
              "    <tr>\n",
              "      <th>4</th>\n",
              "      <td>0EA27ICBLF</td>\n",
              "      <td>S</td>\n",
              "      <td>125.0</td>\n",
              "      <td>LS</td>\n",
              "      <td>187.5</td>\n",
              "      <td>93.8</td>\n",
              "    </tr>\n",
              "    <tr>\n",
              "      <th>...</th>\n",
              "      <td>...</td>\n",
              "      <td>...</td>\n",
              "      <td>...</td>\n",
              "      <td>...</td>\n",
              "      <td>...</td>\n",
              "      <td>...</td>\n",
              "    </tr>\n",
              "    <tr>\n",
              "      <th>8649</th>\n",
              "      <td>ZYWLN4JVLA</td>\n",
              "      <td>L</td>\n",
              "      <td>195.3</td>\n",
              "      <td>RL</td>\n",
              "      <td>425.8</td>\n",
              "      <td>261.7</td>\n",
              "    </tr>\n",
              "    <tr>\n",
              "      <th>8650</th>\n",
              "      <td>ZYWLN4JVLA</td>\n",
              "      <td>R</td>\n",
              "      <td>105.5</td>\n",
              "      <td>LR</td>\n",
              "      <td>214.8</td>\n",
              "      <td>19.5</td>\n",
              "    </tr>\n",
              "    <tr>\n",
              "      <th>8651</th>\n",
              "      <td>ZYWLN4JVLA</td>\n",
              "      <td>L</td>\n",
              "      <td>168.0</td>\n",
              "      <td>LL</td>\n",
              "      <td>332.0</td>\n",
              "      <td>15.6</td>\n",
              "    </tr>\n",
              "    <tr>\n",
              "      <th>8652</th>\n",
              "      <td>ZYWLN4JVLA</td>\n",
              "      <td>L</td>\n",
              "      <td>97.7</td>\n",
              "      <td>LL</td>\n",
              "      <td>281.3</td>\n",
              "      <td>113.3</td>\n",
              "    </tr>\n",
              "    <tr>\n",
              "      <th>8653</th>\n",
              "      <td>ZYWLN4JVLA</td>\n",
              "      <td>L</td>\n",
              "      <td>168.0</td>\n",
              "      <td>LL</td>\n",
              "      <td>160.2</td>\n",
              "      <td>62.5</td>\n",
              "    </tr>\n",
              "  </tbody>\n",
              "</table>\n",
              "<p>9013244 rows × 6 columns</p>\n",
              "</div>\n",
              "      <button class=\"colab-df-convert\" onclick=\"convertToInteractive('df-f81985a5-ce9d-4b76-9343-b26d03221ffa')\"\n",
              "              title=\"Convert this dataframe to an interactive table.\"\n",
              "              style=\"display:none;\">\n",
              "        \n",
              "  <svg xmlns=\"http://www.w3.org/2000/svg\" height=\"24px\"viewBox=\"0 0 24 24\"\n",
              "       width=\"24px\">\n",
              "    <path d=\"M0 0h24v24H0V0z\" fill=\"none\"/>\n",
              "    <path d=\"M18.56 5.44l.94 2.06.94-2.06 2.06-.94-2.06-.94-.94-2.06-.94 2.06-2.06.94zm-11 1L8.5 8.5l.94-2.06 2.06-.94-2.06-.94L8.5 2.5l-.94 2.06-2.06.94zm10 10l.94 2.06.94-2.06 2.06-.94-2.06-.94-.94-2.06-.94 2.06-2.06.94z\"/><path d=\"M17.41 7.96l-1.37-1.37c-.4-.4-.92-.59-1.43-.59-.52 0-1.04.2-1.43.59L10.3 9.45l-7.72 7.72c-.78.78-.78 2.05 0 2.83L4 21.41c.39.39.9.59 1.41.59.51 0 1.02-.2 1.41-.59l7.78-7.78 2.81-2.81c.8-.78.8-2.07 0-2.86zM5.41 20L4 18.59l7.72-7.72 1.47 1.35L5.41 20z\"/>\n",
              "  </svg>\n",
              "      </button>\n",
              "      \n",
              "  <style>\n",
              "    .colab-df-container {\n",
              "      display:flex;\n",
              "      flex-wrap:wrap;\n",
              "      gap: 12px;\n",
              "    }\n",
              "\n",
              "    .colab-df-convert {\n",
              "      background-color: #E8F0FE;\n",
              "      border: none;\n",
              "      border-radius: 50%;\n",
              "      cursor: pointer;\n",
              "      display: none;\n",
              "      fill: #1967D2;\n",
              "      height: 32px;\n",
              "      padding: 0 0 0 0;\n",
              "      width: 32px;\n",
              "    }\n",
              "\n",
              "    .colab-df-convert:hover {\n",
              "      background-color: #E2EBFA;\n",
              "      box-shadow: 0px 1px 2px rgba(60, 64, 67, 0.3), 0px 1px 3px 1px rgba(60, 64, 67, 0.15);\n",
              "      fill: #174EA6;\n",
              "    }\n",
              "\n",
              "    [theme=dark] .colab-df-convert {\n",
              "      background-color: #3B4455;\n",
              "      fill: #D2E3FC;\n",
              "    }\n",
              "\n",
              "    [theme=dark] .colab-df-convert:hover {\n",
              "      background-color: #434B5C;\n",
              "      box-shadow: 0px 1px 3px 1px rgba(0, 0, 0, 0.15);\n",
              "      filter: drop-shadow(0px 1px 2px rgba(0, 0, 0, 0.3));\n",
              "      fill: #FFFFFF;\n",
              "    }\n",
              "  </style>\n",
              "\n",
              "      <script>\n",
              "        const buttonEl =\n",
              "          document.querySelector('#df-f81985a5-ce9d-4b76-9343-b26d03221ffa button.colab-df-convert');\n",
              "        buttonEl.style.display =\n",
              "          google.colab.kernel.accessAllowed ? 'block' : 'none';\n",
              "\n",
              "        async function convertToInteractive(key) {\n",
              "          const element = document.querySelector('#df-f81985a5-ce9d-4b76-9343-b26d03221ffa');\n",
              "          const dataTable =\n",
              "            await google.colab.kernel.invokeFunction('convertToInteractive',\n",
              "                                                     [key], {});\n",
              "          if (!dataTable) return;\n",
              "\n",
              "          const docLinkHtml = 'Like what you see? Visit the ' +\n",
              "            '<a target=\"_blank\" href=https://colab.research.google.com/notebooks/data_table.ipynb>data table notebook</a>'\n",
              "            + ' to learn more about interactive tables.';\n",
              "          element.innerHTML = '';\n",
              "          dataTable['output_type'] = 'display_data';\n",
              "          await google.colab.output.renderOutput(dataTable, element);\n",
              "          const docLink = document.createElement('div');\n",
              "          docLink.innerHTML = docLinkHtml;\n",
              "          element.appendChild(docLink);\n",
              "        }\n",
              "      </script>\n",
              "    </div>\n",
              "  </div>\n",
              "  "
            ]
          },
          "metadata": {}
        }
      ],
      "source": [
        "# remove irrelevant columns for data processing (date, timestamp)\n",
        "df_1 = df.drop('Date', axis='columns').drop('Timestamp', axis='columns')\n",
        "print(\"Number of unique users: \" + str(df_1.UserKey.nunique()))\n",
        "display(df_1)"
      ]
    },
    {
      "cell_type": "code",
      "execution_count": 7,
      "metadata": {
        "id": "6lHVis-dPrjF",
        "colab": {
          "base_uri": "https://localhost:8080/",
          "height": 441
        },
        "outputId": "2d737048-ea0f-4d9a-b51d-653de485d3ac"
      },
      "outputs": [
        {
          "output_type": "stream",
          "name": "stdout",
          "text": [
            "Number of unique users: 155\n"
          ]
        },
        {
          "output_type": "display_data",
          "data": {
            "text/plain": [
              "         UserKey Hand  Hold time Direction  Latency time  Flight time\n",
              "0     0EA27ICBLF    L      101.6        LL         234.4        156.3\n",
              "1     0EA27ICBLF    L       85.9        LL         437.5        359.4\n",
              "2     0EA27ICBLF    L       78.1        LL         210.9        125.0\n",
              "3     0EA27ICBLF    L       62.5        LL         359.4        281.3\n",
              "4     0EA27ICBLF    S      125.0        LS         187.5         93.8\n",
              "...          ...  ...        ...       ...           ...          ...\n",
              "8649  ZYWLN4JVLA    L      195.3        RL         425.8        261.7\n",
              "8650  ZYWLN4JVLA    R      105.5        LR         214.8         19.5\n",
              "8651  ZYWLN4JVLA    L      168.0        LL         332.0         15.6\n",
              "8652  ZYWLN4JVLA    L       97.7        LL         281.3        113.3\n",
              "8653  ZYWLN4JVLA    L      168.0        LL         160.2         62.5\n",
              "\n",
              "[8996101 rows x 6 columns]"
            ],
            "text/html": [
              "\n",
              "  <div id=\"df-5e9baba9-05df-4b1e-b7b7-24cd3655cede\">\n",
              "    <div class=\"colab-df-container\">\n",
              "      <div>\n",
              "<style scoped>\n",
              "    .dataframe tbody tr th:only-of-type {\n",
              "        vertical-align: middle;\n",
              "    }\n",
              "\n",
              "    .dataframe tbody tr th {\n",
              "        vertical-align: top;\n",
              "    }\n",
              "\n",
              "    .dataframe thead th {\n",
              "        text-align: right;\n",
              "    }\n",
              "</style>\n",
              "<table border=\"1\" class=\"dataframe\">\n",
              "  <thead>\n",
              "    <tr style=\"text-align: right;\">\n",
              "      <th></th>\n",
              "      <th>UserKey</th>\n",
              "      <th>Hand</th>\n",
              "      <th>Hold time</th>\n",
              "      <th>Direction</th>\n",
              "      <th>Latency time</th>\n",
              "      <th>Flight time</th>\n",
              "    </tr>\n",
              "  </thead>\n",
              "  <tbody>\n",
              "    <tr>\n",
              "      <th>0</th>\n",
              "      <td>0EA27ICBLF</td>\n",
              "      <td>L</td>\n",
              "      <td>101.6</td>\n",
              "      <td>LL</td>\n",
              "      <td>234.4</td>\n",
              "      <td>156.3</td>\n",
              "    </tr>\n",
              "    <tr>\n",
              "      <th>1</th>\n",
              "      <td>0EA27ICBLF</td>\n",
              "      <td>L</td>\n",
              "      <td>85.9</td>\n",
              "      <td>LL</td>\n",
              "      <td>437.5</td>\n",
              "      <td>359.4</td>\n",
              "    </tr>\n",
              "    <tr>\n",
              "      <th>2</th>\n",
              "      <td>0EA27ICBLF</td>\n",
              "      <td>L</td>\n",
              "      <td>78.1</td>\n",
              "      <td>LL</td>\n",
              "      <td>210.9</td>\n",
              "      <td>125.0</td>\n",
              "    </tr>\n",
              "    <tr>\n",
              "      <th>3</th>\n",
              "      <td>0EA27ICBLF</td>\n",
              "      <td>L</td>\n",
              "      <td>62.5</td>\n",
              "      <td>LL</td>\n",
              "      <td>359.4</td>\n",
              "      <td>281.3</td>\n",
              "    </tr>\n",
              "    <tr>\n",
              "      <th>4</th>\n",
              "      <td>0EA27ICBLF</td>\n",
              "      <td>S</td>\n",
              "      <td>125.0</td>\n",
              "      <td>LS</td>\n",
              "      <td>187.5</td>\n",
              "      <td>93.8</td>\n",
              "    </tr>\n",
              "    <tr>\n",
              "      <th>...</th>\n",
              "      <td>...</td>\n",
              "      <td>...</td>\n",
              "      <td>...</td>\n",
              "      <td>...</td>\n",
              "      <td>...</td>\n",
              "      <td>...</td>\n",
              "    </tr>\n",
              "    <tr>\n",
              "      <th>8649</th>\n",
              "      <td>ZYWLN4JVLA</td>\n",
              "      <td>L</td>\n",
              "      <td>195.3</td>\n",
              "      <td>RL</td>\n",
              "      <td>425.8</td>\n",
              "      <td>261.7</td>\n",
              "    </tr>\n",
              "    <tr>\n",
              "      <th>8650</th>\n",
              "      <td>ZYWLN4JVLA</td>\n",
              "      <td>R</td>\n",
              "      <td>105.5</td>\n",
              "      <td>LR</td>\n",
              "      <td>214.8</td>\n",
              "      <td>19.5</td>\n",
              "    </tr>\n",
              "    <tr>\n",
              "      <th>8651</th>\n",
              "      <td>ZYWLN4JVLA</td>\n",
              "      <td>L</td>\n",
              "      <td>168.0</td>\n",
              "      <td>LL</td>\n",
              "      <td>332.0</td>\n",
              "      <td>15.6</td>\n",
              "    </tr>\n",
              "    <tr>\n",
              "      <th>8652</th>\n",
              "      <td>ZYWLN4JVLA</td>\n",
              "      <td>L</td>\n",
              "      <td>97.7</td>\n",
              "      <td>LL</td>\n",
              "      <td>281.3</td>\n",
              "      <td>113.3</td>\n",
              "    </tr>\n",
              "    <tr>\n",
              "      <th>8653</th>\n",
              "      <td>ZYWLN4JVLA</td>\n",
              "      <td>L</td>\n",
              "      <td>168.0</td>\n",
              "      <td>LL</td>\n",
              "      <td>160.2</td>\n",
              "      <td>62.5</td>\n",
              "    </tr>\n",
              "  </tbody>\n",
              "</table>\n",
              "<p>8996101 rows × 6 columns</p>\n",
              "</div>\n",
              "      <button class=\"colab-df-convert\" onclick=\"convertToInteractive('df-5e9baba9-05df-4b1e-b7b7-24cd3655cede')\"\n",
              "              title=\"Convert this dataframe to an interactive table.\"\n",
              "              style=\"display:none;\">\n",
              "        \n",
              "  <svg xmlns=\"http://www.w3.org/2000/svg\" height=\"24px\"viewBox=\"0 0 24 24\"\n",
              "       width=\"24px\">\n",
              "    <path d=\"M0 0h24v24H0V0z\" fill=\"none\"/>\n",
              "    <path d=\"M18.56 5.44l.94 2.06.94-2.06 2.06-.94-2.06-.94-.94-2.06-.94 2.06-2.06.94zm-11 1L8.5 8.5l.94-2.06 2.06-.94-2.06-.94L8.5 2.5l-.94 2.06-2.06.94zm10 10l.94 2.06.94-2.06 2.06-.94-2.06-.94-.94-2.06-.94 2.06-2.06.94z\"/><path d=\"M17.41 7.96l-1.37-1.37c-.4-.4-.92-.59-1.43-.59-.52 0-1.04.2-1.43.59L10.3 9.45l-7.72 7.72c-.78.78-.78 2.05 0 2.83L4 21.41c.39.39.9.59 1.41.59.51 0 1.02-.2 1.41-.59l7.78-7.78 2.81-2.81c.8-.78.8-2.07 0-2.86zM5.41 20L4 18.59l7.72-7.72 1.47 1.35L5.41 20z\"/>\n",
              "  </svg>\n",
              "      </button>\n",
              "      \n",
              "  <style>\n",
              "    .colab-df-container {\n",
              "      display:flex;\n",
              "      flex-wrap:wrap;\n",
              "      gap: 12px;\n",
              "    }\n",
              "\n",
              "    .colab-df-convert {\n",
              "      background-color: #E8F0FE;\n",
              "      border: none;\n",
              "      border-radius: 50%;\n",
              "      cursor: pointer;\n",
              "      display: none;\n",
              "      fill: #1967D2;\n",
              "      height: 32px;\n",
              "      padding: 0 0 0 0;\n",
              "      width: 32px;\n",
              "    }\n",
              "\n",
              "    .colab-df-convert:hover {\n",
              "      background-color: #E2EBFA;\n",
              "      box-shadow: 0px 1px 2px rgba(60, 64, 67, 0.3), 0px 1px 3px 1px rgba(60, 64, 67, 0.15);\n",
              "      fill: #174EA6;\n",
              "    }\n",
              "\n",
              "    [theme=dark] .colab-df-convert {\n",
              "      background-color: #3B4455;\n",
              "      fill: #D2E3FC;\n",
              "    }\n",
              "\n",
              "    [theme=dark] .colab-df-convert:hover {\n",
              "      background-color: #434B5C;\n",
              "      box-shadow: 0px 1px 3px 1px rgba(0, 0, 0, 0.15);\n",
              "      filter: drop-shadow(0px 1px 2px rgba(0, 0, 0, 0.3));\n",
              "      fill: #FFFFFF;\n",
              "    }\n",
              "  </style>\n",
              "\n",
              "      <script>\n",
              "        const buttonEl =\n",
              "          document.querySelector('#df-5e9baba9-05df-4b1e-b7b7-24cd3655cede button.colab-df-convert');\n",
              "        buttonEl.style.display =\n",
              "          google.colab.kernel.accessAllowed ? 'block' : 'none';\n",
              "\n",
              "        async function convertToInteractive(key) {\n",
              "          const element = document.querySelector('#df-5e9baba9-05df-4b1e-b7b7-24cd3655cede');\n",
              "          const dataTable =\n",
              "            await google.colab.kernel.invokeFunction('convertToInteractive',\n",
              "                                                     [key], {});\n",
              "          if (!dataTable) return;\n",
              "\n",
              "          const docLinkHtml = 'Like what you see? Visit the ' +\n",
              "            '<a target=\"_blank\" href=https://colab.research.google.com/notebooks/data_table.ipynb>data table notebook</a>'\n",
              "            + ' to learn more about interactive tables.';\n",
              "          element.innerHTML = '';\n",
              "          dataTable['output_type'] = 'display_data';\n",
              "          await google.colab.output.renderOutput(dataTable, element);\n",
              "          const docLink = document.createElement('div');\n",
              "          docLink.innerHTML = docLinkHtml;\n",
              "          element.appendChild(docLink);\n",
              "        }\n",
              "      </script>\n",
              "    </div>\n",
              "  </div>\n",
              "  "
            ]
          },
          "metadata": {}
        }
      ],
      "source": [
        "# remove participants with fewer than 1000 keystrokes to avoid small sample bias\n",
        "df_2 = df_1.groupby('UserKey').filter(lambda x : len(x)>1000)\n",
        "print(\"Number of unique users: \" + str(df_2.UserKey.nunique()))\n",
        "display(df_2)"
      ]
    },
    {
      "cell_type": "code",
      "source": [
        "unique_users = df_2.UserKey.unique()"
      ],
      "metadata": {
        "id": "GBW_-I9tmzR7"
      },
      "execution_count": 8,
      "outputs": []
    },
    {
      "cell_type": "markdown",
      "source": [
        "**Dependent variable encoding**"
      ],
      "metadata": {
        "id": "gdXjxAP-xClG"
      }
    },
    {
      "cell_type": "code",
      "source": [
        "# binary encoding of Parkinson status (0 = negative, 1 = positive)\n",
        "parkinsons_list = []\n",
        "for fn in os.listdir(root + '/Archived users'):\n",
        "  if (str(fn)[5:-4] in unique_users):\n",
        "    user_file = open(root + '/Archived users/' + fn, \"r\")\n",
        "    data = user_file.read()\n",
        "    content = data.split(\"\\n\")\n",
        "    #print(content)\n",
        "    if content[2][12:] == 'True':\n",
        "      parkinsons_list.append(1)\n",
        "    elif content[2][12:] == 'False':\n",
        "      parkinsons_list.append(0)"
      ],
      "metadata": {
        "id": "EiStwfawmawI"
      },
      "execution_count": 9,
      "outputs": []
    },
    {
      "cell_type": "code",
      "source": [
        "print(parkinsons_list)"
      ],
      "metadata": {
        "colab": {
          "base_uri": "https://localhost:8080/"
        },
        "id": "EnPGqxqnqddi",
        "outputId": "9df979e5-0b18-4dfb-8642-7e43c747a145"
      },
      "execution_count": 10,
      "outputs": [
        {
          "output_type": "stream",
          "name": "stdout",
          "text": [
            "[1, 0, 0, 1, 0, 1, 1, 0, 1, 1, 1, 1, 0, 1, 1, 1, 1, 1, 0, 1, 1, 1, 0, 1, 1, 0, 1, 1, 1, 1, 1, 1, 1, 0, 1, 1, 0, 1, 1, 1, 1, 0, 1, 1, 1, 0, 1, 0, 0, 0, 1, 1, 1, 0, 0, 1, 0, 1, 1, 1, 1, 1, 0, 1, 1, 1, 1, 1, 1, 1, 1, 1, 0, 1, 0, 0, 0, 1, 1, 1, 1, 1, 1, 1, 1, 0, 1, 0, 0, 0, 1, 1, 1, 1, 1, 1, 0, 1, 1, 1, 1, 1, 1, 0, 1, 0, 1, 0, 1, 1, 0, 0, 1, 1, 1, 0, 1, 0, 1, 1, 1, 1, 1, 1, 1, 0, 1, 1, 1, 1, 0, 1, 1, 1, 1, 1, 1, 0, 1, 1, 1, 1, 0, 1, 0, 0, 1, 1, 1, 1, 1, 1, 1, 1, 1]\n"
          ]
        }
      ]
    },
    {
      "cell_type": "markdown",
      "source": [
        "**Feature extraction**"
      ],
      "metadata": {
        "id": "D5jHdjmaqf67"
      }
    },
    {
      "cell_type": "code",
      "source": [
        "# combine individual keystrokes into combined statistical data for each participant (mean, standard deviation, skewness, kurtosis) for hold time and latency time, as well as assymetry between L-side/R-side\n",
        "# thousands of entries are condensed into one row for each participant to extract important features \n",
        "user_info = pd.DataFrame(columns=np.arange(28))\n",
        "user_info.columns = ['HT Mean (L)', 'HT Mean (R)', 'HT STD (L)', 'HT STD (R)', 'HT Skew (L)', 'HT Skew (R)', 'HT Kurt (L)', 'HT Kurt (R)', 'Mean difference', 'LT Mean (LR)', 'LT Mean (RL)', 'LT Mean (LL)', 'LT Mean (RR)', 'LT STD (LR)', 'LT STD (RL)', 'LT STD (LL)', 'LT STD (RR)', 'LT Skew (LR)', 'LT Skew (RL)', 'LT Skew (LL)', 'LT Skew (RR)', 'LT Kurt (LR)', 'LT Kurt (RL)', 'LT Kurt (LL)', 'LT Kurt (RR)', 'Mean diff (LR-RL)', 'Mean diff (LL-RR)', 'Parkinson\\'s']\n",
        "for i in range(len(unique_users)):\n",
        "  user = unique_users[i]\n",
        "  user_values = []\n",
        "  curr_df = df_2[df_2[\"UserKey\"].str.contains(user)]\n",
        "  curr_df = curr_df.reset_index()\n",
        "  #curr_df = curr_df.drop('Discount', axis='columns').drop('index', axis='columns')\n",
        "  #print(curr_df['Direction'][1:])\n",
        "  HT_L = curr_df.loc[(curr_df['Hand'] == 'L'), 'Hold time']\n",
        "  HT_R = curr_df.loc[(curr_df['Hand'] == 'R'), 'Hold time']\n",
        "  HT_list = [HT_L, HT_R]\n",
        "\n",
        "  for j in range(2):\n",
        "    user_values.append(statistics.mean(HT_list[j]))\n",
        "    user_values.append(statistics.stdev(HT_list[j]))\n",
        "    user_values.append(stats.skew(HT_list[j], bias=False))\n",
        "    user_values.append(stats.kurtosis(HT_list[j], bias=False))\n",
        "  user_values.append(abs(statistics.mean(HT_L) - statistics.mean(HT_R)))\n",
        "  \n",
        "  LT_LR = curr_df.loc[(curr_df['Direction'] == 'LR'), 'Latency time']\n",
        "  LT_RL = curr_df.loc[(curr_df['Direction'] == 'RL'), 'Latency time']\n",
        "  LT_LL = curr_df.loc[(curr_df['Direction'] == 'LL'), 'Latency time']\n",
        "  LT_RR = curr_df.loc[(curr_df['Direction'] == 'RR'), 'Latency time']\n",
        "  LT_list = [LT_LR, LT_RL, LT_LL, LT_RR]\n",
        "\n",
        "  for j in range(4):\n",
        "    user_values.append(statistics.mean(LT_list[j]))\n",
        "    user_values.append(statistics.stdev(LT_list[j]))\n",
        "    user_values.append(stats.skew(LT_list[j], bias=False))\n",
        "    user_values.append(stats.kurtosis(LT_list[j], bias=False))\n",
        "  user_values.append(abs(statistics.mean(LT_LR) - statistics.mean(LT_RL)))\n",
        "  user_values.append(abs(statistics.mean(LT_LL) - statistics.mean(LT_RR)))\n",
        "  \n",
        "  user_values.append(parkinsons_list[i])\n",
        "  user_info.loc[len(user_info)] = user_values\n",
        "\n",
        "display(user_info)"
      ],
      "metadata": {
        "colab": {
          "base_uri": "https://localhost:8080/",
          "height": 502
        },
        "id": "iyik9jfPg5Yy",
        "outputId": "17d2321b-a151-43d6-81fe-ae44d75ac248"
      },
      "execution_count": 11,
      "outputs": [
        {
          "output_type": "display_data",
          "data": {
            "text/plain": [
              "     HT Mean (L)  HT Mean (R)  HT STD (L)  HT STD (R)  HT Skew (L)  \\\n",
              "0      77.749454    17.598336    1.585134   11.522029    79.306669   \n",
              "1      98.931818    23.869914    0.236835    0.859236   101.595749   \n",
              "2     153.702407    53.213749    0.264980    0.625664   105.622423   \n",
              "3     153.521655    43.931450    1.352828    2.623331   149.722970   \n",
              "4      89.355483    22.041569    0.795804    7.209476    90.890535   \n",
              "..           ...          ...         ...         ...          ...   \n",
              "150   144.550351    51.964212   -0.343776    0.077503   115.651657   \n",
              "151   111.271697    25.435708    1.847418    9.510130   109.022713   \n",
              "152   112.056034    20.694022    0.392660    2.998890   111.744260   \n",
              "153    93.671032    51.082657   -0.061584   -0.282887    90.009187   \n",
              "154   144.792909    81.351678    0.698503    1.496581   132.569886   \n",
              "\n",
              "     HT Skew (R)  HT Kurt (L)  HT Kurt (R)  Mean difference  LT Mean (LR)  \\\n",
              "0      24.609195     4.130419    44.944694         1.557215    277.610541   \n",
              "1      37.219557     7.495779   110.960777         2.663930    411.718182   \n",
              "2      27.036622     2.797976    24.142310        48.079984    313.541489   \n",
              "3      37.167793     1.152588     1.756346         3.798685    604.100000   \n",
              "4      34.355843     0.508098     2.215637         1.535052    351.215053   \n",
              "..           ...          ...          ...              ...           ...   \n",
              "150    36.921484     0.727193     2.084348        28.898694    416.058555   \n",
              "151    22.563197     1.350504    13.981419         2.248984    353.507881   \n",
              "152    26.670033     0.517080     0.690160         0.311773    378.445122   \n",
              "153    51.725588     0.139027    -0.156771         3.661845    152.749177   \n",
              "154    71.298522     0.609289     2.423355        12.223022    195.494628   \n",
              "\n",
              "     ...  LT Skew (RL)  LT Skew (LL)  LT Skew (RR)  LT Kurt (LR)  \\\n",
              "0    ...     97.920148      0.481528     -0.700290    273.864624   \n",
              "1    ...    162.606085      0.377702     -0.511024    365.736471   \n",
              "2    ...    101.977747     -1.342300      2.022551    322.170833   \n",
              "3    ...    154.972292      0.301000     -1.013709    489.507095   \n",
              "4    ...    120.015100      0.514506      1.248726    338.282118   \n",
              "..   ...           ...           ...           ...           ...   \n",
              "150  ...    162.173494      0.532466     -0.256977    423.811620   \n",
              "151  ...     70.945323     -0.265956      0.292382    359.141169   \n",
              "152  ...    144.463350      0.810516      0.083938    379.116725   \n",
              "153  ...     79.460218      1.213004      1.737602    168.250427   \n",
              "154  ...    134.652202      1.446668      2.631722    206.760194   \n",
              "\n",
              "     LT Kurt (RL)  LT Kurt (LL)  LT Kurt (RR)  Mean diff (LR-RL)  \\\n",
              "0      117.423836      0.148535     -1.237983         139.245790   \n",
              "1      155.345904      0.575523     -0.246378          18.540793   \n",
              "2       82.901327     -0.286635      0.765983           2.742036   \n",
              "3      154.531992      0.140075     -1.051458          30.863529   \n",
              "4      148.919332      0.476318     -0.014178          39.519115   \n",
              "..            ...           ...           ...                ...   \n",
              "150    170.111380      0.419322     -0.779357          10.369051   \n",
              "151     89.251047     -0.588214     -0.184743           5.966590   \n",
              "152    138.788763      0.918057      0.923714          55.907015   \n",
              "153     93.145271      1.141790      0.986675          10.795979   \n",
              "154    138.685190      1.412620      2.716789          15.209416   \n",
              "\n",
              "     Mean diff (LL-RR)  Parkinson's  \n",
              "0            10.284312          1.0  \n",
              "1            40.979771          0.0  \n",
              "2            25.711714          0.0  \n",
              "3             0.345793          1.0  \n",
              "4            21.948033          0.0  \n",
              "..                 ...          ...  \n",
              "150          28.607444          1.0  \n",
              "151           5.378925          1.0  \n",
              "152           1.699700          1.0  \n",
              "153          10.642127          1.0  \n",
              "154           3.627122          1.0  \n",
              "\n",
              "[155 rows x 28 columns]"
            ],
            "text/html": [
              "\n",
              "  <div id=\"df-45e1ba46-1969-42b2-a0ea-3062cb5591ad\">\n",
              "    <div class=\"colab-df-container\">\n",
              "      <div>\n",
              "<style scoped>\n",
              "    .dataframe tbody tr th:only-of-type {\n",
              "        vertical-align: middle;\n",
              "    }\n",
              "\n",
              "    .dataframe tbody tr th {\n",
              "        vertical-align: top;\n",
              "    }\n",
              "\n",
              "    .dataframe thead th {\n",
              "        text-align: right;\n",
              "    }\n",
              "</style>\n",
              "<table border=\"1\" class=\"dataframe\">\n",
              "  <thead>\n",
              "    <tr style=\"text-align: right;\">\n",
              "      <th></th>\n",
              "      <th>HT Mean (L)</th>\n",
              "      <th>HT Mean (R)</th>\n",
              "      <th>HT STD (L)</th>\n",
              "      <th>HT STD (R)</th>\n",
              "      <th>HT Skew (L)</th>\n",
              "      <th>HT Skew (R)</th>\n",
              "      <th>HT Kurt (L)</th>\n",
              "      <th>HT Kurt (R)</th>\n",
              "      <th>Mean difference</th>\n",
              "      <th>LT Mean (LR)</th>\n",
              "      <th>...</th>\n",
              "      <th>LT Skew (RL)</th>\n",
              "      <th>LT Skew (LL)</th>\n",
              "      <th>LT Skew (RR)</th>\n",
              "      <th>LT Kurt (LR)</th>\n",
              "      <th>LT Kurt (RL)</th>\n",
              "      <th>LT Kurt (LL)</th>\n",
              "      <th>LT Kurt (RR)</th>\n",
              "      <th>Mean diff (LR-RL)</th>\n",
              "      <th>Mean diff (LL-RR)</th>\n",
              "      <th>Parkinson's</th>\n",
              "    </tr>\n",
              "  </thead>\n",
              "  <tbody>\n",
              "    <tr>\n",
              "      <th>0</th>\n",
              "      <td>77.749454</td>\n",
              "      <td>17.598336</td>\n",
              "      <td>1.585134</td>\n",
              "      <td>11.522029</td>\n",
              "      <td>79.306669</td>\n",
              "      <td>24.609195</td>\n",
              "      <td>4.130419</td>\n",
              "      <td>44.944694</td>\n",
              "      <td>1.557215</td>\n",
              "      <td>277.610541</td>\n",
              "      <td>...</td>\n",
              "      <td>97.920148</td>\n",
              "      <td>0.481528</td>\n",
              "      <td>-0.700290</td>\n",
              "      <td>273.864624</td>\n",
              "      <td>117.423836</td>\n",
              "      <td>0.148535</td>\n",
              "      <td>-1.237983</td>\n",
              "      <td>139.245790</td>\n",
              "      <td>10.284312</td>\n",
              "      <td>1.0</td>\n",
              "    </tr>\n",
              "    <tr>\n",
              "      <th>1</th>\n",
              "      <td>98.931818</td>\n",
              "      <td>23.869914</td>\n",
              "      <td>0.236835</td>\n",
              "      <td>0.859236</td>\n",
              "      <td>101.595749</td>\n",
              "      <td>37.219557</td>\n",
              "      <td>7.495779</td>\n",
              "      <td>110.960777</td>\n",
              "      <td>2.663930</td>\n",
              "      <td>411.718182</td>\n",
              "      <td>...</td>\n",
              "      <td>162.606085</td>\n",
              "      <td>0.377702</td>\n",
              "      <td>-0.511024</td>\n",
              "      <td>365.736471</td>\n",
              "      <td>155.345904</td>\n",
              "      <td>0.575523</td>\n",
              "      <td>-0.246378</td>\n",
              "      <td>18.540793</td>\n",
              "      <td>40.979771</td>\n",
              "      <td>0.0</td>\n",
              "    </tr>\n",
              "    <tr>\n",
              "      <th>2</th>\n",
              "      <td>153.702407</td>\n",
              "      <td>53.213749</td>\n",
              "      <td>0.264980</td>\n",
              "      <td>0.625664</td>\n",
              "      <td>105.622423</td>\n",
              "      <td>27.036622</td>\n",
              "      <td>2.797976</td>\n",
              "      <td>24.142310</td>\n",
              "      <td>48.079984</td>\n",
              "      <td>313.541489</td>\n",
              "      <td>...</td>\n",
              "      <td>101.977747</td>\n",
              "      <td>-1.342300</td>\n",
              "      <td>2.022551</td>\n",
              "      <td>322.170833</td>\n",
              "      <td>82.901327</td>\n",
              "      <td>-0.286635</td>\n",
              "      <td>0.765983</td>\n",
              "      <td>2.742036</td>\n",
              "      <td>25.711714</td>\n",
              "      <td>0.0</td>\n",
              "    </tr>\n",
              "    <tr>\n",
              "      <th>3</th>\n",
              "      <td>153.521655</td>\n",
              "      <td>43.931450</td>\n",
              "      <td>1.352828</td>\n",
              "      <td>2.623331</td>\n",
              "      <td>149.722970</td>\n",
              "      <td>37.167793</td>\n",
              "      <td>1.152588</td>\n",
              "      <td>1.756346</td>\n",
              "      <td>3.798685</td>\n",
              "      <td>604.100000</td>\n",
              "      <td>...</td>\n",
              "      <td>154.972292</td>\n",
              "      <td>0.301000</td>\n",
              "      <td>-1.013709</td>\n",
              "      <td>489.507095</td>\n",
              "      <td>154.531992</td>\n",
              "      <td>0.140075</td>\n",
              "      <td>-1.051458</td>\n",
              "      <td>30.863529</td>\n",
              "      <td>0.345793</td>\n",
              "      <td>1.0</td>\n",
              "    </tr>\n",
              "    <tr>\n",
              "      <th>4</th>\n",
              "      <td>89.355483</td>\n",
              "      <td>22.041569</td>\n",
              "      <td>0.795804</td>\n",
              "      <td>7.209476</td>\n",
              "      <td>90.890535</td>\n",
              "      <td>34.355843</td>\n",
              "      <td>0.508098</td>\n",
              "      <td>2.215637</td>\n",
              "      <td>1.535052</td>\n",
              "      <td>351.215053</td>\n",
              "      <td>...</td>\n",
              "      <td>120.015100</td>\n",
              "      <td>0.514506</td>\n",
              "      <td>1.248726</td>\n",
              "      <td>338.282118</td>\n",
              "      <td>148.919332</td>\n",
              "      <td>0.476318</td>\n",
              "      <td>-0.014178</td>\n",
              "      <td>39.519115</td>\n",
              "      <td>21.948033</td>\n",
              "      <td>0.0</td>\n",
              "    </tr>\n",
              "    <tr>\n",
              "      <th>...</th>\n",
              "      <td>...</td>\n",
              "      <td>...</td>\n",
              "      <td>...</td>\n",
              "      <td>...</td>\n",
              "      <td>...</td>\n",
              "      <td>...</td>\n",
              "      <td>...</td>\n",
              "      <td>...</td>\n",
              "      <td>...</td>\n",
              "      <td>...</td>\n",
              "      <td>...</td>\n",
              "      <td>...</td>\n",
              "      <td>...</td>\n",
              "      <td>...</td>\n",
              "      <td>...</td>\n",
              "      <td>...</td>\n",
              "      <td>...</td>\n",
              "      <td>...</td>\n",
              "      <td>...</td>\n",
              "      <td>...</td>\n",
              "      <td>...</td>\n",
              "    </tr>\n",
              "    <tr>\n",
              "      <th>150</th>\n",
              "      <td>144.550351</td>\n",
              "      <td>51.964212</td>\n",
              "      <td>-0.343776</td>\n",
              "      <td>0.077503</td>\n",
              "      <td>115.651657</td>\n",
              "      <td>36.921484</td>\n",
              "      <td>0.727193</td>\n",
              "      <td>2.084348</td>\n",
              "      <td>28.898694</td>\n",
              "      <td>416.058555</td>\n",
              "      <td>...</td>\n",
              "      <td>162.173494</td>\n",
              "      <td>0.532466</td>\n",
              "      <td>-0.256977</td>\n",
              "      <td>423.811620</td>\n",
              "      <td>170.111380</td>\n",
              "      <td>0.419322</td>\n",
              "      <td>-0.779357</td>\n",
              "      <td>10.369051</td>\n",
              "      <td>28.607444</td>\n",
              "      <td>1.0</td>\n",
              "    </tr>\n",
              "    <tr>\n",
              "      <th>151</th>\n",
              "      <td>111.271697</td>\n",
              "      <td>25.435708</td>\n",
              "      <td>1.847418</td>\n",
              "      <td>9.510130</td>\n",
              "      <td>109.022713</td>\n",
              "      <td>22.563197</td>\n",
              "      <td>1.350504</td>\n",
              "      <td>13.981419</td>\n",
              "      <td>2.248984</td>\n",
              "      <td>353.507881</td>\n",
              "      <td>...</td>\n",
              "      <td>70.945323</td>\n",
              "      <td>-0.265956</td>\n",
              "      <td>0.292382</td>\n",
              "      <td>359.141169</td>\n",
              "      <td>89.251047</td>\n",
              "      <td>-0.588214</td>\n",
              "      <td>-0.184743</td>\n",
              "      <td>5.966590</td>\n",
              "      <td>5.378925</td>\n",
              "      <td>1.0</td>\n",
              "    </tr>\n",
              "    <tr>\n",
              "      <th>152</th>\n",
              "      <td>112.056034</td>\n",
              "      <td>20.694022</td>\n",
              "      <td>0.392660</td>\n",
              "      <td>2.998890</td>\n",
              "      <td>111.744260</td>\n",
              "      <td>26.670033</td>\n",
              "      <td>0.517080</td>\n",
              "      <td>0.690160</td>\n",
              "      <td>0.311773</td>\n",
              "      <td>378.445122</td>\n",
              "      <td>...</td>\n",
              "      <td>144.463350</td>\n",
              "      <td>0.810516</td>\n",
              "      <td>0.083938</td>\n",
              "      <td>379.116725</td>\n",
              "      <td>138.788763</td>\n",
              "      <td>0.918057</td>\n",
              "      <td>0.923714</td>\n",
              "      <td>55.907015</td>\n",
              "      <td>1.699700</td>\n",
              "      <td>1.0</td>\n",
              "    </tr>\n",
              "    <tr>\n",
              "      <th>153</th>\n",
              "      <td>93.671032</td>\n",
              "      <td>51.082657</td>\n",
              "      <td>-0.061584</td>\n",
              "      <td>-0.282887</td>\n",
              "      <td>90.009187</td>\n",
              "      <td>51.725588</td>\n",
              "      <td>0.139027</td>\n",
              "      <td>-0.156771</td>\n",
              "      <td>3.661845</td>\n",
              "      <td>152.749177</td>\n",
              "      <td>...</td>\n",
              "      <td>79.460218</td>\n",
              "      <td>1.213004</td>\n",
              "      <td>1.737602</td>\n",
              "      <td>168.250427</td>\n",
              "      <td>93.145271</td>\n",
              "      <td>1.141790</td>\n",
              "      <td>0.986675</td>\n",
              "      <td>10.795979</td>\n",
              "      <td>10.642127</td>\n",
              "      <td>1.0</td>\n",
              "    </tr>\n",
              "    <tr>\n",
              "      <th>154</th>\n",
              "      <td>144.792909</td>\n",
              "      <td>81.351678</td>\n",
              "      <td>0.698503</td>\n",
              "      <td>1.496581</td>\n",
              "      <td>132.569886</td>\n",
              "      <td>71.298522</td>\n",
              "      <td>0.609289</td>\n",
              "      <td>2.423355</td>\n",
              "      <td>12.223022</td>\n",
              "      <td>195.494628</td>\n",
              "      <td>...</td>\n",
              "      <td>134.652202</td>\n",
              "      <td>1.446668</td>\n",
              "      <td>2.631722</td>\n",
              "      <td>206.760194</td>\n",
              "      <td>138.685190</td>\n",
              "      <td>1.412620</td>\n",
              "      <td>2.716789</td>\n",
              "      <td>15.209416</td>\n",
              "      <td>3.627122</td>\n",
              "      <td>1.0</td>\n",
              "    </tr>\n",
              "  </tbody>\n",
              "</table>\n",
              "<p>155 rows × 28 columns</p>\n",
              "</div>\n",
              "      <button class=\"colab-df-convert\" onclick=\"convertToInteractive('df-45e1ba46-1969-42b2-a0ea-3062cb5591ad')\"\n",
              "              title=\"Convert this dataframe to an interactive table.\"\n",
              "              style=\"display:none;\">\n",
              "        \n",
              "  <svg xmlns=\"http://www.w3.org/2000/svg\" height=\"24px\"viewBox=\"0 0 24 24\"\n",
              "       width=\"24px\">\n",
              "    <path d=\"M0 0h24v24H0V0z\" fill=\"none\"/>\n",
              "    <path d=\"M18.56 5.44l.94 2.06.94-2.06 2.06-.94-2.06-.94-.94-2.06-.94 2.06-2.06.94zm-11 1L8.5 8.5l.94-2.06 2.06-.94-2.06-.94L8.5 2.5l-.94 2.06-2.06.94zm10 10l.94 2.06.94-2.06 2.06-.94-2.06-.94-.94-2.06-.94 2.06-2.06.94z\"/><path d=\"M17.41 7.96l-1.37-1.37c-.4-.4-.92-.59-1.43-.59-.52 0-1.04.2-1.43.59L10.3 9.45l-7.72 7.72c-.78.78-.78 2.05 0 2.83L4 21.41c.39.39.9.59 1.41.59.51 0 1.02-.2 1.41-.59l7.78-7.78 2.81-2.81c.8-.78.8-2.07 0-2.86zM5.41 20L4 18.59l7.72-7.72 1.47 1.35L5.41 20z\"/>\n",
              "  </svg>\n",
              "      </button>\n",
              "      \n",
              "  <style>\n",
              "    .colab-df-container {\n",
              "      display:flex;\n",
              "      flex-wrap:wrap;\n",
              "      gap: 12px;\n",
              "    }\n",
              "\n",
              "    .colab-df-convert {\n",
              "      background-color: #E8F0FE;\n",
              "      border: none;\n",
              "      border-radius: 50%;\n",
              "      cursor: pointer;\n",
              "      display: none;\n",
              "      fill: #1967D2;\n",
              "      height: 32px;\n",
              "      padding: 0 0 0 0;\n",
              "      width: 32px;\n",
              "    }\n",
              "\n",
              "    .colab-df-convert:hover {\n",
              "      background-color: #E2EBFA;\n",
              "      box-shadow: 0px 1px 2px rgba(60, 64, 67, 0.3), 0px 1px 3px 1px rgba(60, 64, 67, 0.15);\n",
              "      fill: #174EA6;\n",
              "    }\n",
              "\n",
              "    [theme=dark] .colab-df-convert {\n",
              "      background-color: #3B4455;\n",
              "      fill: #D2E3FC;\n",
              "    }\n",
              "\n",
              "    [theme=dark] .colab-df-convert:hover {\n",
              "      background-color: #434B5C;\n",
              "      box-shadow: 0px 1px 3px 1px rgba(0, 0, 0, 0.15);\n",
              "      filter: drop-shadow(0px 1px 2px rgba(0, 0, 0, 0.3));\n",
              "      fill: #FFFFFF;\n",
              "    }\n",
              "  </style>\n",
              "\n",
              "      <script>\n",
              "        const buttonEl =\n",
              "          document.querySelector('#df-45e1ba46-1969-42b2-a0ea-3062cb5591ad button.colab-df-convert');\n",
              "        buttonEl.style.display =\n",
              "          google.colab.kernel.accessAllowed ? 'block' : 'none';\n",
              "\n",
              "        async function convertToInteractive(key) {\n",
              "          const element = document.querySelector('#df-45e1ba46-1969-42b2-a0ea-3062cb5591ad');\n",
              "          const dataTable =\n",
              "            await google.colab.kernel.invokeFunction('convertToInteractive',\n",
              "                                                     [key], {});\n",
              "          if (!dataTable) return;\n",
              "\n",
              "          const docLinkHtml = 'Like what you see? Visit the ' +\n",
              "            '<a target=\"_blank\" href=https://colab.research.google.com/notebooks/data_table.ipynb>data table notebook</a>'\n",
              "            + ' to learn more about interactive tables.';\n",
              "          element.innerHTML = '';\n",
              "          dataTable['output_type'] = 'display_data';\n",
              "          await google.colab.output.renderOutput(dataTable, element);\n",
              "          const docLink = document.createElement('div');\n",
              "          docLink.innerHTML = docLinkHtml;\n",
              "          element.appendChild(docLink);\n",
              "        }\n",
              "      </script>\n",
              "    </div>\n",
              "  </div>\n",
              "  "
            ]
          },
          "metadata": {}
        }
      ]
    },
    {
      "cell_type": "markdown",
      "source": [
        "**Principal component analysis (PCA)**"
      ],
      "metadata": {
        "id": "IW9dpk70q9Ul"
      }
    },
    {
      "cell_type": "code",
      "source": [
        "# simplify high-dimensional data to find greatest variance\n",
        "X = user_info\n",
        "#X = X.drop(user_info.iloc[:, 9:27], axis = 1)\n",
        "#X = X.drop(user_info.iloc[:, 0:9], axis = 1)\n",
        "\n",
        "Y = X[X.columns[27:]].to_numpy().flatten().astype(int)\n",
        "#print(Y)\n",
        "X = X.drop(\"Parkinson's\",axis=1)\n",
        "\n",
        "pca = PCA(n_components=2) \n",
        "pca.fit(X)\n",
        "print(pca.explained_variance_ratio_)\n",
        "\n",
        "X_transformed = pca.transform(X)\n",
        "\n",
        "colors = ['#FE433C','#0095EF']\n",
        "lw = 2\n",
        "\n",
        "class_names = [\"Negative (-)\", \"Positive (+)\"]\n",
        "cn = np.array(class_names)\n",
        "\n",
        "for color, i, class_names in zip(colors, list(range(0, 2)), class_names):\n",
        "    plt.scatter(X_transformed[Y == i, 0], X_transformed[Y == i, 1], color=color, alpha=.9, lw=lw, s=10,\n",
        "                label=class_names)\n",
        "plt.legend(loc='best', shadow=False, scatterpoints=1)\n",
        "plt.title('PCA')\n",
        "plt.figure()\n",
        "x_scaled = StandardScaler().fit_transform(X)"
      ],
      "metadata": {
        "colab": {
          "base_uri": "https://localhost:8080/",
          "height": 316
        },
        "id": "vupr3Z6kurtg",
        "outputId": "8eaba3b9-0c42-404d-fa3b-d5f44c000cf2"
      },
      "execution_count": 12,
      "outputs": [
        {
          "output_type": "stream",
          "name": "stdout",
          "text": [
            "[0.81978855 0.05749631]\n"
          ]
        },
        {
          "output_type": "display_data",
          "data": {
            "text/plain": [
              "<Figure size 432x288 with 1 Axes>"
            ],
            "image/png": "[encoded data removed]"
          },
          "metadata": {
            "needs_background": "light"
          }
        },
        {
          "output_type": "display_data",
          "data": {
            "text/plain": [
              "<Figure size 432x288 with 0 Axes>"
            ]
          },
          "metadata": {}
        }
      ]
    },
    {
      "cell_type": "code",
      "source": [
        "X.to_csv('data.csv')\n",
        "!cp data.csv \"drive/My Drive/SJSU\""
      ],
      "metadata": {
        "id": "GXE7WTD35KEx"
      },
      "execution_count": 13,
      "outputs": []
    },
    {
      "cell_type": "markdown",
      "source": [
        "**Linear SVC Model training**"
      ],
      "metadata": {
        "id": "6DtotTyuxM_T"
      }
    },
    {
      "cell_type": "code",
      "source": [
        "X_final_train, X_final_test, Y_final_train, Y_final_test = train_test_split(x_scaled, Y, test_size=0.2, random_state=100)\n",
        "\n",
        "skf = StratifiedKFold(n_splits=5, shuffle=True, random_state=1)\n",
        "lst_accu_stratified = []\n",
        "lr = linear_model.LogisticRegression()\n",
        "\n",
        "accs = []\n",
        "for train_index, test_index in skf.split(X_final_train, Y_final_train):\n",
        "    x_train, x_test = X_final_train[train_index], X_final_train[test_index]\n",
        "    y_train, y_test = Y_final_train[train_index], Y_final_train[test_index]\n",
        "\n",
        "    model = LinearSVC(multi_class='ovr', class_weight='balanced').fit(x_train, y_train)\n",
        "    accs.append(model.score(x_test, y_test))\n",
        "\n",
        "print(\"Individual cross-validation accuracies: \" + str(accs))\n",
        "print(\"Mean cross-validation accuracy: {:.3f}\".format(sum(accs) / len(accs)))"
      ],
      "metadata": {
        "colab": {
          "base_uri": "https://localhost:8080/"
        },
        "id": "Pfw8r1EO4dKa",
        "outputId": "0a910a18-fbf5-4ea4-d48a-39af0dd9b69b"
      },
      "execution_count": 14,
      "outputs": [
        {
          "output_type": "stream",
          "name": "stdout",
          "text": [
            "Individual cross-validation accuracies: [0.48, 0.56, 0.56, 0.6, 0.5833333333333334]\n",
            "Mean cross-validation accuracy: 0.557\n"
          ]
        }
      ]
    },
    {
      "cell_type": "code",
      "source": [
        "model.fit(X_final_train,Y_final_train)\n",
        "\n",
        "print('Accuracy of linear SVC on test set: {:.2f}'.format(model.score(X_final_test, Y_final_test)))"
      ],
      "metadata": {
        "colab": {
          "base_uri": "https://localhost:8080/"
        },
        "id": "etWdaBvgA-eu",
        "outputId": "969e1e5d-4b1c-47a2-c832-734e800a6b09"
      },
      "execution_count": 15,
      "outputs": [
        {
          "output_type": "stream",
          "name": "stdout",
          "text": [
            "Accuracy of linear SVC on test set: 0.61\n"
          ]
        }
      ]
    },
    {
      "cell_type": "markdown",
      "source": [
        "**Linear SVC Results**"
      ],
      "metadata": {
        "id": "U0NvsW90xXZU"
      }
    },
    {
      "cell_type": "code",
      "source": [
        "np.set_printoptions(precision=2)\n",
        "\n",
        "for i in range(1):\n",
        "  labels = []\n",
        "  for j in range(len(Y)):\n",
        "    if Y[j] == i:\n",
        "      labels.append(1)\n",
        "    else:\n",
        "      labels.append(0)\n",
        "  Y_digit = np.array(labels)\n",
        " # X_train, X_test, Y_train, Y_test = train_test_split(X, Y_digit, test_size=0.2, random_state=0, stratify=Y_digit)\n",
        "  model.fit(X_final_train, Y_final_train)\n",
        "  \n",
        "  disp = plot_confusion_matrix(model, X_final_test, Y_final_test, display_labels=[\"Negative\".format(i), \"Positive\".format(i)], cmap=plt.cm.Blues)\n",
        "  disp.ax_.set_title(\"Test set results for Parkinson's disease ({score:.2f})\".format(i, score=model.score(X_final_test, Y_final_test)))\n",
        "  plt.show()"
      ],
      "metadata": {
        "colab": {
          "base_uri": "https://localhost:8080/",
          "height": 295
        },
        "id": "2gKop8hVu-7R",
        "outputId": "b4c757d7-db76-41e5-f4a1-54632f3872c5"
      },
      "execution_count": 16,
      "outputs": [
        {
          "output_type": "display_data",
          "data": {
            "text/plain": [
              "<Figure size 432x288 with 2 Axes>"
            ],
            "image/png": "[encoded data removed]"
          },
          "metadata": {
            "needs_background": "light"
          }
        }
      ]
    },
    {
      "cell_type": "markdown",
      "source": [
        "**Poly SVC Model training**"
      ],
      "metadata": {
        "id": "p_f65AHH0ze3"
      }
    },
    {
      "cell_type": "code",
      "source": [
        "# simplify high-dimensional data to find greatest variance\n",
        "X = user_info\n",
        "X = X.drop(user_info.iloc[:, 9:27], axis = 1)\n",
        "#X = X.drop(user_info.iloc[:, 0:9], axis = 1)\n",
        "\n",
        "Y = X[X.columns[9:]].to_numpy().flatten().astype(int)\n",
        "#print(Y)\n",
        "X = X.drop(\"Parkinson's\",axis=1)\n",
        "\n",
        "pca = PCA(n_components=2) \n",
        "pca.fit(X)\n",
        "print(pca.explained_variance_ratio_)\n",
        "\n",
        "X_transformed = pca.transform(X)\n",
        "\n",
        "colors = ['#FE433C','#0095EF']\n",
        "lw = 2\n",
        "\n",
        "class_names = [\"Negative (-)\", \"Positive (+)\"]\n",
        "cn = np.array(class_names)\n",
        "\n",
        "for color, i, class_names in zip(colors, list(range(0, 2)), class_names):\n",
        "    plt.scatter(X_transformed[Y == i, 0], X_transformed[Y == i, 1], color=color, alpha=.9, lw=lw, s=10,\n",
        "                label=class_names)\n",
        "plt.legend(loc='best', shadow=False, scatterpoints=1)\n",
        "plt.title('PCA')\n",
        "plt.ylim([-50, 100])\n",
        "plt.figure()\n",
        "#plt.xlim([-3, 3])\n",
        "x_scaled = StandardScaler().fit_transform(X)"
      ],
      "metadata": {
        "colab": {
          "base_uri": "https://localhost:8080/",
          "height": 316
        },
        "id": "VIcVPWEMyfAy",
        "outputId": "ab93dd2b-0e2d-4542-88d2-acf21c6fd8c9"
      },
      "execution_count": 17,
      "outputs": [
        {
          "output_type": "stream",
          "name": "stdout",
          "text": [
            "[0.59 0.24]\n"
          ]
        },
        {
          "output_type": "display_data",
          "data": {
            "text/plain": [
              "<Figure size 432x288 with 1 Axes>"
            ],
            "image/png": "[encoded data removed]"
          },
          "metadata": {
            "needs_background": "light"
          }
        },
        {
          "output_type": "display_data",
          "data": {
            "text/plain": [
              "<Figure size 432x288 with 0 Axes>"
            ]
          },
          "metadata": {}
        }
      ]
    },
    {
      "cell_type": "code",
      "source": [
        "X_final_train, X_final_test, Y_final_train, Y_final_test = train_test_split(x_scaled, Y, test_size=0.2, random_state=100)\n",
        "\n",
        "skf = StratifiedKFold(n_splits=5, shuffle=True, random_state=1)\n",
        "lst_accu_stratified = []\n",
        "lr = linear_model.LogisticRegression()\n",
        "\n",
        "accs = []\n",
        "for train_index, test_index in skf.split(X_final_train, Y_final_train):\n",
        "    x_train, x_test = X_final_train[train_index], X_final_train[test_index]\n",
        "    y_train, y_test = Y_final_train[train_index], Y_final_train[test_index]\n",
        "\n",
        "    model = SVC(kernel='poly', class_weight='balanced').fit(x_train, y_train)\n",
        "    accs.append(model.score(x_test, y_test))\n",
        "\n",
        "print(\"Individual cross-validation accuracies: \" + str(accs))\n",
        "print(\"Mean cross-validation accuracy: {:.3f}\".format(sum(accs) / len(accs)))"
      ],
      "metadata": {
        "colab": {
          "base_uri": "https://localhost:8080/"
        },
        "id": "Dh63tp57y2uo",
        "outputId": "d846df49-013c-40e0-fa8c-e36b1a39c34b"
      },
      "execution_count": 18,
      "outputs": [
        {
          "output_type": "stream",
          "name": "stdout",
          "text": [
            "Individual cross-validation accuracies: [0.72, 0.76, 0.72, 0.52, 0.75]\n",
            "Mean cross-validation accuracy: 0.694\n"
          ]
        }
      ]
    },
    {
      "cell_type": "code",
      "source": [
        "model.fit(X_final_train,Y_final_train)\n",
        "\n",
        "print('Accuracy of poly SVC on test set: {:.2f}'.format(model.score(X_final_test, Y_final_test)))"
      ],
      "metadata": {
        "colab": {
          "base_uri": "https://localhost:8080/"
        },
        "id": "XQ1wCpgQzAGN",
        "outputId": "c6ee759e-3a5e-42af-adf2-0c3a6e1e5f0d"
      },
      "execution_count": 19,
      "outputs": [
        {
          "output_type": "stream",
          "name": "stdout",
          "text": [
            "Accuracy of poly SVC on test set: 0.68\n"
          ]
        }
      ]
    },
    {
      "cell_type": "markdown",
      "source": [
        "**Poly SVC Results**"
      ],
      "metadata": {
        "id": "oWir_6251K0c"
      }
    },
    {
      "cell_type": "code",
      "source": [
        "np.set_printoptions(precision=2)\n",
        "\n",
        "for i in range(1):\n",
        "  labels = []\n",
        "  for j in range(len(Y)):\n",
        "    if Y[j] == i:\n",
        "      labels.append(1)\n",
        "    else:\n",
        "      labels.append(0)\n",
        "  Y_digit = np.array(labels)\n",
        " # X_train, X_test, Y_train, Y_test = train_test_split(X, Y_digit, test_size=0.2, random_state=0, stratify=Y_digit)\n",
        "  model.fit(X_final_train, Y_final_train)\n",
        "  \n",
        "  disp = plot_confusion_matrix(model, X_final_test, Y_final_test, display_labels=[\"Negative\".format(i), \"Positive\".format(i)], cmap=plt.cm.Blues)\n",
        "  disp.ax_.set_title(\"Test set results for Parkinson's disease ({score:.2f})\".format(i, score=model.score(X_final_test, Y_final_test)))\n",
        "  plt.show()"
      ],
      "metadata": {
        "colab": {
          "base_uri": "https://localhost:8080/",
          "height": 295
        },
        "id": "gb9bYJv40TUa",
        "outputId": "763c8ff5-6ead-4a78-ceca-e84c9dac3278"
      },
      "execution_count": 20,
      "outputs": [
        {
          "output_type": "display_data",
          "data": {
            "text/plain": [
              "<Figure size 432x288 with 2 Axes>"
            ],
            "image/png": "[encoded data removed]"
          },
          "metadata": {
            "needs_background": "light"
          }
        }
      ]
    }
  ],
  "metadata": {
    "kernelspec": {
      "display_name": "Python 3",
      "language": "python",
      "name": "python3"
    },
    "language_info": {
      "codemirror_mode": {
        "name": "ipython",
        "version": 3
      },
      "file_extension": ".py",
      "mimetype": "text/x-python",
      "name": "python",
      "nbconvert_exporter": "python",
      "pygments_lexer": "ipython3",
      "version": "3.8.3"
    },
    "colab": {
      "name": "CS156_Final_Project_4.ipynb",
      "provenance": []
    }
  },
  "nbformat": 4,
  "nbformat_minor": 0
}
